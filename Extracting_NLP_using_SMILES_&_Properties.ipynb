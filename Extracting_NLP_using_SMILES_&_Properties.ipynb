{
  "nbformat": 4,
  "nbformat_minor": 0,
  "metadata": {
    "colab": {
      "provenance": [],
      "authorship_tag": "ABX9TyMjc/rYYVYLXmR6Xk3Y+fJQ",
      "include_colab_link": true
    },
    "kernelspec": {
      "name": "python3",
      "display_name": "Python 3"
    },
    "language_info": {
      "name": "python"
    }
  },
  "cells": [
    {
      "cell_type": "markdown",
      "metadata": {
        "id": "view-in-github",
        "colab_type": "text"
      },
      "source": [
        "<a href=\"https://colab.research.google.com/github/RehanKhan-007/NLP/blob/main/Extracting_NLP_using_SMILES_%26_Properties.ipynb\" target=\"_parent\"><img src=\"https://colab.research.google.com/assets/colab-badge.svg\" alt=\"Open In Colab\"/></a>"
      ]
    },
    {
      "cell_type": "code",
      "execution_count": 6,
      "metadata": {
        "colab": {
          "base_uri": "https://localhost:8080/"
        },
        "id": "Ok6oHc_SHBaJ",
        "outputId": "fba3a6aa-b8c5-4923-fea4-9de392c878c1"
      },
      "outputs": [
        {
          "output_type": "stream",
          "name": "stdout",
          "text": [
            "[[Compound(6324)], [Compound(335)], [Compound(962)]]\n"
          ]
        }
      ],
      "source": [
        "#importing necessary libraries\n",
        "import pubchempy as pcp\n",
        "import nltk\n",
        "from nltk.tokenize import word_tokenize\n",
        "\n",
        "#function to extract compounds from PubChem\n",
        "def extract_compounds(smiles, properties):\n",
        "    \n",
        "    #tokenize the input strings\n",
        "    smiles_tokens = word_tokenize(smiles) \n",
        "    properties_tokens = word_tokenize(properties)\n",
        "    \n",
        "    #loop through the tokens to find compounds\n",
        "    compounds = []\n",
        "    for token in smiles_tokens:\n",
        "        try:\n",
        "            compound = pcp.get_compounds(token, 'smiles')\n",
        "            compounds.append(compound)\n",
        "        except:\n",
        "            pass\n",
        "    for token in properties_tokens:\n",
        "        try:\n",
        "            compound = pcp.get_compounds(token, 'property')\n",
        "            compounds.append(compound)\n",
        "        except:\n",
        "            pass\n",
        "    \n",
        "    #return the list of  compounds\n",
        "    return compounds\n",
        "\n",
        "#example usage\n",
        "smiles = '\"CC(=O)OC1=CC=CC=C1C(=O)O'\n",
        "properties = 'molecular_weight>180'\n",
        "compounds = extract_compounds(smiles, properties)\n",
        "print(compounds)\n",
        "\n"
      ]
    },
    {
      "cell_type": "code",
      "source": [
        "import requests\n",
        "\n",
        "def get_compound_name(smiles):\n",
        "    # Define the PubChem API URL\n",
        "    url = \"https://pubchem.ncbi.nlm.nih.gov/rest/pug/compound/smiles/{}/property/IUPACName,MolecularWeight,CanonicalSMILES,InChIKey/JSON\".format(smiles)\n",
        "\n",
        "    # Send a request to the API and get the response\n",
        "    response = requests.get(url)\n",
        "\n",
        "    # Check if the request was successful\n",
        "    if response.status_code == 200:\n",
        "        # Extract the name of the compound from the response\n",
        "        data = response.json()\n",
        "        compound_name = data['PropertyTable']['Properties'][0]['IUPACName']\n",
        "        return compound_name\n",
        "    else:\n",
        "        # Return an error message if the request was not successful\n",
        "        return \"Error: Unable to fetch data from PubChem\"\n",
        "\n",
        "# Example usage\n",
        "smiles = \"CC(=O)OC1=CC=CC=C1C(=O)O\"\n",
        "compound_name = get_compound_name(smiles)\n",
        "print(\"Compound name:\", compound_name)"
      ],
      "metadata": {
        "colab": {
          "base_uri": "https://localhost:8080/"
        },
        "id": "OaXrV3YVLMwV",
        "outputId": "a70868c1-e0a2-41ee-cded-3b3a9071f202"
      },
      "execution_count": null,
      "outputs": [
        {
          "output_type": "stream",
          "name": "stdout",
          "text": [
            "Compound name: 2-acetyloxybenzoic acid\n"
          ]
        }
      ]
    },
    {
      "cell_type": "code",
      "source": [
        "!pip install pubchempy"
      ],
      "metadata": {
        "colab": {
          "base_uri": "https://localhost:8080/"
        },
        "id": "Hqj9g_BHvv60",
        "outputId": "6287cb15-8807-43cf-b889-292d3d84ddb4"
      },
      "execution_count": 3,
      "outputs": [
        {
          "output_type": "stream",
          "name": "stdout",
          "text": [
            "Looking in indexes: https://pypi.org/simple, https://us-python.pkg.dev/colab-wheels/public/simple/\n",
            "Collecting pubchempy\n",
            "  Downloading PubChemPy-1.0.4.tar.gz (29 kB)\n",
            "  Preparing metadata (setup.py) ... \u001b[?25l\u001b[?25hdone\n",
            "Building wheels for collected packages: pubchempy\n",
            "  Building wheel for pubchempy (setup.py) ... \u001b[?25l\u001b[?25hdone\n",
            "  Created wheel for pubchempy: filename=PubChemPy-1.0.4-py3-none-any.whl size=13834 sha256=ec4be1bc73d842ac7d45a4552e4f33f0b1f879983aeb68eaeaa93c519f893b82\n",
            "  Stored in directory: /root/.cache/pip/wheels/b0/8c/ba/3b00b89931153bf5a4eaa8e73bd1b0319a879cc45175326854\n",
            "Successfully built pubchempy\n",
            "Installing collected packages: pubchempy\n",
            "Successfully installed pubchempy-1.0.4\n"
          ]
        }
      ]
    },
    {
      "cell_type": "code",
      "source": [
        "import nltk\n",
        "nltk.download('punkt')"
      ],
      "metadata": {
        "colab": {
          "base_uri": "https://localhost:8080/"
        },
        "id": "YZ6eML6kLWtS",
        "outputId": "a53c66d0-2b89-4acf-8d95-03827ac9fd87"
      },
      "execution_count": 5,
      "outputs": [
        {
          "output_type": "stream",
          "name": "stderr",
          "text": [
            "[nltk_data] Downloading package punkt to /root/nltk_data...\n",
            "[nltk_data]   Unzipping tokenizers/punkt.zip.\n"
          ]
        },
        {
          "output_type": "execute_result",
          "data": {
            "text/plain": [
              "True"
            ]
          },
          "metadata": {},
          "execution_count": 5
        }
      ]
    }
  ]
}